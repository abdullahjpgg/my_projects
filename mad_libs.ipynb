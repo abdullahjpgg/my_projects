{
  "nbformat": 4,
  "nbformat_minor": 0,
  "metadata": {
    "colab": {
      "provenance": [],
      "authorship_tag": "ABX9TyNGm3fr/l2VOYNz1sd7ThqX",
      "include_colab_link": true
    },
    "kernelspec": {
      "name": "python3",
      "display_name": "Python 3"
    },
    "language_info": {
      "name": "python"
    }
  },
  "cells": [
    {
      "cell_type": "markdown",
      "metadata": {
        "id": "view-in-github",
        "colab_type": "text"
      },
      "source": [
        "<a href=\"https://colab.research.google.com/github/abdullahjpgg/my_projects/blob/main/mad_libs.ipynb\" target=\"_parent\"><img src=\"https://colab.research.google.com/assets/colab-badge.svg\" alt=\"Open In Colab\"/></a>"
      ]
    },
    {
      "cell_type": "code",
      "execution_count": null,
      "metadata": {
        "id": "qM79t764IgjR"
      },
      "outputs": [],
      "source": [
        "adjective1 = input(\"enter the adjective: \")\n",
        "adjective2 = input(\"enter the adjective: \")\n",
        "adjective3 = input(\"enter the adjective: \")\n",
        "noun1 = input(\"enter the noun: \")\n",
        "noun2 = input(\"enter the noun: \")\n",
        "noun3 = input(\"enter the noun: \")\n",
        "verb = input(\"enter the verb: \")\n",
        "\n",
        "# adjectives : lush, bright, wagging\n",
        "# nouns : puppy, paws, breeze\n",
        "# verb : swayed\n",
        "\n",
        "print(f\"\"\"The energetic {noun1} dashed across the {adjective1}, green meadow, chasing a {adjective2}, fluttering butterfly.\n",
        "Its tiny {noun2} pounded against the soft earth, and its {adjective3} tail {verb} like a rhythmic metronome in the gentle {noun3}.\"\"\")"
      ]
    }
  ]
}