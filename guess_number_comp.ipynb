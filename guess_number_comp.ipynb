{
  "nbformat": 4,
  "nbformat_minor": 0,
  "metadata": {
    "colab": {
      "provenance": [],
      "authorship_tag": "ABX9TyPZdB5XAFxQ8TxYEXd9Vcul",
      "include_colab_link": true
    },
    "kernelspec": {
      "name": "python3",
      "display_name": "Python 3"
    },
    "language_info": {
      "name": "python"
    }
  },
  "cells": [
    {
      "cell_type": "markdown",
      "metadata": {
        "id": "view-in-github",
        "colab_type": "text"
      },
      "source": [
        "<a href=\"https://colab.research.google.com/github/abdullahjpgg/my_projects/blob/main/guess_number_comp.ipynb\" target=\"_parent\"><img src=\"https://colab.research.google.com/assets/colab-badge.svg\" alt=\"Open In Colab\"/></a>"
      ]
    },
    {
      "cell_type": "code",
      "source": [
        "import random\n",
        "def computer_guesses():\n",
        "  print(\"Choose a secret number. I will try to find it.\")\n",
        "\n",
        "  low = 1\n",
        "  high = 100\n",
        "  attempt = 0\n",
        "\n",
        "  while True:\n",
        "    guessed_number = random.randint(low,high)\n",
        "    print(f\"my guess is {guessed_number}\")\n",
        "    attempt +=1\n",
        "    feedback = input(\"Is it high(h), low(l), or correct(c)? \")\n",
        "    if feedback == \"h\":\n",
        "      high = guessed_number -1\n",
        "    elif feedback == \"l\":\n",
        "      low = guessed_number +1\n",
        "    elif feedback == \"c\":\n",
        "      print(f\"I found the number in {attempt} attempts.\")\n",
        "      break\n",
        "    else:\n",
        "      print(\"Invalid output!\")\n",
        "\n",
        "computer_guesses()\n"
      ],
      "metadata": {
        "colab": {
          "base_uri": "https://localhost:8080/"
        },
        "id": "1GHxKccMYaaw",
        "outputId": "e3df83b6-017e-4a4e-cf10-1b31d53fad42"
      },
      "execution_count": 18,
      "outputs": [
        {
          "output_type": "stream",
          "name": "stdout",
          "text": [
            "Choose a secret number. I will try to find it.\n",
            "my guess is 91\n",
            "Is it high(h), low(l), or correct(c)? h\n",
            "my guess is 62\n",
            "Is it high(h), low(l), or correct(c)? c\n",
            "I found the number in 2 attempts.\n"
          ]
        }
      ]
    }
  ]
}