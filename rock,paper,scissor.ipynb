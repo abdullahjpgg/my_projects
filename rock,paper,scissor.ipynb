{
  "nbformat": 4,
  "nbformat_minor": 0,
  "metadata": {
    "colab": {
      "provenance": [],
      "authorship_tag": "ABX9TyM3NdPn+lfc686BahAjF8IR",
      "include_colab_link": true
    },
    "kernelspec": {
      "name": "python3",
      "display_name": "Python 3"
    },
    "language_info": {
      "name": "python"
    }
  },
  "cells": [
    {
      "cell_type": "markdown",
      "metadata": {
        "id": "view-in-github",
        "colab_type": "text"
      },
      "source": [
        "<a href=\"https://colab.research.google.com/github/abdullahjpgg/my_projects/blob/main/rock%2Cpaper%2Cscissor.ipynb\" target=\"_parent\"><img src=\"https://colab.research.google.com/assets/colab-badge.svg\" alt=\"Open In Colab\"/></a>"
      ]
    },
    {
      "cell_type": "code",
      "execution_count": 9,
      "metadata": {
        "id": "OkPIRsztqCuU",
        "colab": {
          "base_uri": "https://localhost:8080/"
        },
        "outputId": "de7ed356-9335-450e-87aa-576eb10012d7"
      },
      "outputs": [
        {
          "output_type": "stream",
          "name": "stdout",
          "text": [
            "Welcome! Choose rock, paper or scissors:rock\n",
            "You chose: rock and the computer chose: paper\n",
            "You lose!\n",
            "Do you want to play again? (yes/no):no\n",
            "Thanks for playing!\n"
          ]
        }
      ],
      "source": [
        "import random\n",
        "\n",
        "\n",
        "def play_game():\n",
        "    while True:\n",
        "     user = input(\"Welcome! Choose rock, paper or scissors:\")\n",
        "     computer = random.choice([\"rock\", \"paper\", \"scissors\"])\n",
        "\n",
        "     print(f\"You chose: {user} and the computer chose: {computer}\")\n",
        "\n",
        "     if user == computer:\n",
        "      print(\"its a tie!\")\n",
        "     elif user == \"rock\" and computer == \"scissors\" or user == \"paper\" and computer == \"rock\" or user == \"scissors\" and computer == \"paper\":\n",
        "      print(\"You win!\")\n",
        "     else:\n",
        "      print(\"You lose!\")\n",
        "\n",
        "      play_again = input(\"Do you want to play again? (yes/no):\")\n",
        "      if play_again != \"yes\":\n",
        "       print(\"Thanks for playing!\")\n",
        "      break\n",
        "\n",
        "play_game()"
      ]
    }
  ]
}